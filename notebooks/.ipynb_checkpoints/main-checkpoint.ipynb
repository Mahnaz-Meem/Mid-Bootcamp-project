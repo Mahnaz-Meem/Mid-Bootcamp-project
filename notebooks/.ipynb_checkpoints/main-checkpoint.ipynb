{
 "cells": [
  {
   "cell_type": "code",
   "execution_count": 1,
   "id": "026ad22c",
   "metadata": {},
   "outputs": [
    {
     "name": "stderr",
     "output_type": "stream",
     "text": [
      "C:\\Users\\mahna\\anaconda3\\envs\\midbootcamp_project\\lib\\site-packages\\scipy\\__init__.py:146: UserWarning: A NumPy version >=1.16.5 and <1.23.0 is required for this version of SciPy (detected version 1.23.1\n",
      "  warnings.warn(f\"A NumPy version >={np_minversion} and <{np_maxversion}\"\n"
     ]
    }
   ],
   "source": [
    "import os\n",
    "import numpy as np\n",
    "import pandas as pd\n",
    "import matplotlib.pyplot as plt\n",
    "import seaborn as sns\n",
    "\n",
    "\n",
    "from sklearn.preprocessing import StandardScaler, LabelEncoder\n",
    "from sklearn.pipeline import make_pipeline\n",
    "from sklearn.model_selection import train_test_split\n",
    "import statistics as stat"
   ]
  },
  {
   "cell_type": "code",
   "execution_count": null,
   "id": "033f95c1",
   "metadata": {
    "scrolled": true
   },
   "outputs": [],
   "source": [
    "crop=pd.read_csv('./Crop_recommendation.csv')\n",
    "display(crop.head())"
   ]
  },
  {
   "cell_type": "code",
   "execution_count": null,
   "id": "4bb461ec",
   "metadata": {},
   "outputs": [],
   "source": [
    "crop.info()"
   ]
  },
  {
   "cell_type": "code",
   "execution_count": null,
   "id": "d279ca73",
   "metadata": {},
   "outputs": [],
   "source": [
    "crop.describe()"
   ]
  },
  {
   "cell_type": "code",
   "execution_count": null,
   "id": "73845e52",
   "metadata": {},
   "outputs": [],
   "source": [
    "crop.shape"
   ]
  },
  {
   "cell_type": "code",
   "execution_count": null,
   "id": "1a561360",
   "metadata": {},
   "outputs": [],
   "source": [
    "crop.isna().sum()"
   ]
  },
  {
   "cell_type": "code",
   "execution_count": null,
   "id": "735f781e",
   "metadata": {},
   "outputs": [],
   "source": [
    "crop['crop'].unique()"
   ]
  },
  {
   "cell_type": "code",
   "execution_count": null,
   "id": "eba5ce38",
   "metadata": {},
   "outputs": [],
   "source": [
    "crop['crop'].value_counts(dropna=False)"
   ]
  },
  {
   "cell_type": "markdown",
   "id": "9713a9f0",
   "metadata": {},
   "source": [
    "It looks like the data is perfectly clean with  balanced proportion."
   ]
  },
  {
   "cell_type": "code",
   "execution_count": null,
   "id": "48170e1d",
   "metadata": {},
   "outputs": [],
   "source": [
    "all_columns = crop.columns[:-1]\n",
    "\n",
    "plt.figure(figsize=(15,13))\n",
    "i = 1\n",
    "for column in all_columns[:-1]:\n",
    "    plt.subplot(3,3,i)\n",
    "    sns.histplot(data[column])\n",
    "    i+=1\n",
    "plt.show()\n",
    "\n",
    "sns.histplot(data[all_columns[-1]])\n",
    "plt.show()"
   ]
  }
 ],
 "metadata": {
  "kernelspec": {
   "display_name": "midbootcamp_project",
   "language": "python",
   "name": "midbootcamp_project"
  },
  "language_info": {
   "codemirror_mode": {
    "name": "ipython",
    "version": 3
   },
   "file_extension": ".py",
   "mimetype": "text/x-python",
   "name": "python",
   "nbconvert_exporter": "python",
   "pygments_lexer": "ipython3",
   "version": "3.9.12"
  }
 },
 "nbformat": 4,
 "nbformat_minor": 5
}
